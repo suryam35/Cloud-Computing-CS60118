{
  "nbformat": 4,
  "nbformat_minor": 0,
  "metadata": {
    "colab": {
      "provenance": []
    },
    "kernelspec": {
      "name": "python3",
      "display_name": "Python 3"
    },
    "language_info": {
      "name": "python"
    }
  },
  "cells": [
    {
      "cell_type": "code",
      "execution_count": 2,
      "metadata": {
        "id": "PvTPL2oH38mj"
      },
      "outputs": [],
      "source": [
        "import csv\n",
        "from itertools import permutations\n",
        "l = list(permutations(range(0, 9)))\n",
        "\n",
        "with open('New_data_set.csv', 'w', newline='') as file:\n",
        "    writer = csv.writer(file)\n",
        "\n",
        "    writer.writerow([\"Limitied_CPU\",\"Limited_Mem\",\"Auto Scalabilty\",\"Multi Host\",\"Rolling Update\",\"Load Balancing\",\"Delay Requirements\",\"Container Self-healing\", \"Reliability\", \"Output\"])\n",
        "    for p in l:\n",
        "        q = list(p)\n",
        "        avg_docker = (q[0]+q[1]+q[6])/3.0\n",
        "        avg_kubernetes = (q[2] + q[3]+q[4]+q[5]+q[7]+q[8])/6.0\n",
        "        if avg_docker >= avg_kubernetes:\n",
        "            q.append(0)\n",
        "        else:\n",
        "            q.append(1)\n",
        "        writer.writerow(q)\n",
        "    "
      ]
    }
  ]
}