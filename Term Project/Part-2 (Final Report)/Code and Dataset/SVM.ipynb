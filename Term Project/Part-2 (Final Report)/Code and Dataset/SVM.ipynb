{
  "nbformat": 4,
  "nbformat_minor": 0,
  "metadata": {
    "colab": {
      "provenance": []
    },
    "kernelspec": {
      "name": "python3",
      "display_name": "Python 3"
    },
    "language_info": {
      "name": "python"
    }
  },
  "cells": [
    {
      "cell_type": "markdown",
      "source": [
        "Import"
      ],
      "metadata": {
        "id": "00I8F_dimtpq"
      }
    },
    {
      "cell_type": "code",
      "execution_count": 1,
      "metadata": {
        "id": "4N7_fNl8kR9c"
      },
      "outputs": [],
      "source": [
        "import os\n",
        "import numpy as np\n",
        "import csv\n",
        "import numpy as np\n",
        "import pandas as pd\n",
        "import plotly.offline as plt\n",
        "import plotly.graph_objs as go\n",
        "import matplotlib.pyplot as mtp"
      ]
    },
    {
      "cell_type": "markdown",
      "source": [
        "Read the Data"
      ],
      "metadata": {
        "id": "5jCMhzG_myJ0"
      }
    },
    {
      "cell_type": "code",
      "source": [
        "data = pd.read_csv(r\"Data_Points.csv\")\n",
        "print(data)"
      ],
      "metadata": {
        "colab": {
          "base_uri": "https://localhost:8080/"
        },
        "id": "GixqBtOVl4fz",
        "outputId": "16db5825-817b-4a94-99cf-222c5aaf0acf"
      },
      "execution_count": 2,
      "outputs": [
        {
          "output_type": "stream",
          "name": "stdout",
          "text": [
            "      Limitied_CPU  Limited_Mem  Auto Scalabilty  Multi Host  Rolling Update  \\\n",
            "0                6            4                5           0               2   \n",
            "1                6            4                5           0               2   \n",
            "2                6            4                5           0               3   \n",
            "3                6            4                5           0               3   \n",
            "4                6            4                5           0               1   \n",
            "...            ...          ...              ...         ...             ...   \n",
            "5035             0            2                1           3               6   \n",
            "5036             0            2                1           3               5   \n",
            "5037             0            2                1           3               5   \n",
            "5038             0            2                1           3               4   \n",
            "5039             0            2                1           3               4   \n",
            "\n",
            "      Load Balancing  Delay Requirements  Output  \n",
            "0                  1                   3       0  \n",
            "1                  3                   1       0  \n",
            "2                  1                   2       0  \n",
            "3                  2                   1       0  \n",
            "4                  2                   3       0  \n",
            "...              ...                 ...     ...  \n",
            "5035               5                   4       0  \n",
            "5036               4                   6       1  \n",
            "5037               6                   4       0  \n",
            "5038               5                   6       1  \n",
            "5039               6                   5       0  \n",
            "\n",
            "[5040 rows x 8 columns]\n"
          ]
        }
      ]
    },
    {
      "cell_type": "markdown",
      "source": [
        "Sample of data"
      ],
      "metadata": {
        "id": "hUxlEZdZmz5P"
      }
    },
    {
      "cell_type": "code",
      "source": [
        "x= data.iloc[:, 0:7].values  \n",
        "y= data.iloc[:, 7:8].values \n",
        "print(x.shape)\n",
        "print(y.shape)\n",
        "print(x)\n",
        "print(y)"
      ],
      "metadata": {
        "colab": {
          "base_uri": "https://localhost:8080/"
        },
        "id": "QqYE-hR0mtIC",
        "outputId": "f754ab1a-2df3-4738-dd55-47913373599b"
      },
      "execution_count": 3,
      "outputs": [
        {
          "output_type": "stream",
          "name": "stdout",
          "text": [
            "(5040, 7)\n",
            "(5040, 1)\n",
            "[[6 4 5 ... 2 1 3]\n",
            " [6 4 5 ... 2 3 1]\n",
            " [6 4 5 ... 3 1 2]\n",
            " ...\n",
            " [0 2 1 ... 5 6 4]\n",
            " [0 2 1 ... 4 5 6]\n",
            " [0 2 1 ... 4 6 5]]\n",
            "[[0]\n",
            " [0]\n",
            " [0]\n",
            " ...\n",
            " [0]\n",
            " [1]\n",
            " [0]]\n"
          ]
        }
      ]
    },
    {
      "cell_type": "code",
      "source": [
        "from sklearn.model_selection import train_test_split  \n",
        "x_train, x_test, y_train, y_test= train_test_split(x, y, test_size= 0.25, random_state=0)  "
      ],
      "metadata": {
        "id": "Tr0YMkpEm2sT"
      },
      "execution_count": 4,
      "outputs": []
    },
    {
      "cell_type": "code",
      "source": [
        "#feature Scaling  \n",
        "from sklearn.preprocessing import StandardScaler    \n",
        "st_x= StandardScaler()    \n",
        "x_train= st_x.fit_transform(x_train)    \n",
        "x_test= st_x.transform(x_test)  "
      ],
      "metadata": {
        "id": "IWUWXSJdnfvj"
      },
      "execution_count": 5,
      "outputs": []
    },
    {
      "cell_type": "code",
      "source": [
        "from sklearn import svm\n",
        "clf = svm.SVC(probability = True)\n",
        "clf.fit(x_train, y_train)"
      ],
      "metadata": {
        "colab": {
          "base_uri": "https://localhost:8080/",
          "height": 144
        },
        "id": "Tz_oOIH_nmYj",
        "outputId": "82ac22f7-08e1-4876-f192-147f732b1286"
      },
      "execution_count": 8,
      "outputs": [
        {
          "output_type": "stream",
          "name": "stderr",
          "text": [
            "/usr/local/lib/python3.9/dist-packages/sklearn/utils/validation.py:1143: DataConversionWarning:\n",
            "\n",
            "A column-vector y was passed when a 1d array was expected. Please change the shape of y to (n_samples, ), for example using ravel().\n",
            "\n"
          ]
        },
        {
          "output_type": "execute_result",
          "data": {
            "text/plain": [
              "SVC(probability=True)"
            ],
            "text/html": [
              "<style>#sk-container-id-2 {color: black;background-color: white;}#sk-container-id-2 pre{padding: 0;}#sk-container-id-2 div.sk-toggleable {background-color: white;}#sk-container-id-2 label.sk-toggleable__label {cursor: pointer;display: block;width: 100%;margin-bottom: 0;padding: 0.3em;box-sizing: border-box;text-align: center;}#sk-container-id-2 label.sk-toggleable__label-arrow:before {content: \"▸\";float: left;margin-right: 0.25em;color: #696969;}#sk-container-id-2 label.sk-toggleable__label-arrow:hover:before {color: black;}#sk-container-id-2 div.sk-estimator:hover label.sk-toggleable__label-arrow:before {color: black;}#sk-container-id-2 div.sk-toggleable__content {max-height: 0;max-width: 0;overflow: hidden;text-align: left;background-color: #f0f8ff;}#sk-container-id-2 div.sk-toggleable__content pre {margin: 0.2em;color: black;border-radius: 0.25em;background-color: #f0f8ff;}#sk-container-id-2 input.sk-toggleable__control:checked~div.sk-toggleable__content {max-height: 200px;max-width: 100%;overflow: auto;}#sk-container-id-2 input.sk-toggleable__control:checked~label.sk-toggleable__label-arrow:before {content: \"▾\";}#sk-container-id-2 div.sk-estimator input.sk-toggleable__control:checked~label.sk-toggleable__label {background-color: #d4ebff;}#sk-container-id-2 div.sk-label input.sk-toggleable__control:checked~label.sk-toggleable__label {background-color: #d4ebff;}#sk-container-id-2 input.sk-hidden--visually {border: 0;clip: rect(1px 1px 1px 1px);clip: rect(1px, 1px, 1px, 1px);height: 1px;margin: -1px;overflow: hidden;padding: 0;position: absolute;width: 1px;}#sk-container-id-2 div.sk-estimator {font-family: monospace;background-color: #f0f8ff;border: 1px dotted black;border-radius: 0.25em;box-sizing: border-box;margin-bottom: 0.5em;}#sk-container-id-2 div.sk-estimator:hover {background-color: #d4ebff;}#sk-container-id-2 div.sk-parallel-item::after {content: \"\";width: 100%;border-bottom: 1px solid gray;flex-grow: 1;}#sk-container-id-2 div.sk-label:hover label.sk-toggleable__label {background-color: #d4ebff;}#sk-container-id-2 div.sk-serial::before {content: \"\";position: absolute;border-left: 1px solid gray;box-sizing: border-box;top: 0;bottom: 0;left: 50%;z-index: 0;}#sk-container-id-2 div.sk-serial {display: flex;flex-direction: column;align-items: center;background-color: white;padding-right: 0.2em;padding-left: 0.2em;position: relative;}#sk-container-id-2 div.sk-item {position: relative;z-index: 1;}#sk-container-id-2 div.sk-parallel {display: flex;align-items: stretch;justify-content: center;background-color: white;position: relative;}#sk-container-id-2 div.sk-item::before, #sk-container-id-2 div.sk-parallel-item::before {content: \"\";position: absolute;border-left: 1px solid gray;box-sizing: border-box;top: 0;bottom: 0;left: 50%;z-index: -1;}#sk-container-id-2 div.sk-parallel-item {display: flex;flex-direction: column;z-index: 1;position: relative;background-color: white;}#sk-container-id-2 div.sk-parallel-item:first-child::after {align-self: flex-end;width: 50%;}#sk-container-id-2 div.sk-parallel-item:last-child::after {align-self: flex-start;width: 50%;}#sk-container-id-2 div.sk-parallel-item:only-child::after {width: 0;}#sk-container-id-2 div.sk-dashed-wrapped {border: 1px dashed gray;margin: 0 0.4em 0.5em 0.4em;box-sizing: border-box;padding-bottom: 0.4em;background-color: white;}#sk-container-id-2 div.sk-label label {font-family: monospace;font-weight: bold;display: inline-block;line-height: 1.2em;}#sk-container-id-2 div.sk-label-container {text-align: center;}#sk-container-id-2 div.sk-container {/* jupyter's `normalize.less` sets `[hidden] { display: none; }` but bootstrap.min.css set `[hidden] { display: none !important; }` so we also need the `!important` here to be able to override the default hidden behavior on the sphinx rendered scikit-learn.org. See: https://github.com/scikit-learn/scikit-learn/issues/21755 */display: inline-block !important;position: relative;}#sk-container-id-2 div.sk-text-repr-fallback {display: none;}</style><div id=\"sk-container-id-2\" class=\"sk-top-container\"><div class=\"sk-text-repr-fallback\"><pre>SVC(probability=True)</pre><b>In a Jupyter environment, please rerun this cell to show the HTML representation or trust the notebook. <br />On GitHub, the HTML representation is unable to render, please try loading this page with nbviewer.org.</b></div><div class=\"sk-container\" hidden><div class=\"sk-item\"><div class=\"sk-estimator sk-toggleable\"><input class=\"sk-toggleable__control sk-hidden--visually\" id=\"sk-estimator-id-2\" type=\"checkbox\" checked><label for=\"sk-estimator-id-2\" class=\"sk-toggleable__label sk-toggleable__label-arrow\">SVC</label><div class=\"sk-toggleable__content\"><pre>SVC(probability=True)</pre></div></div></div></div></div>"
            ]
          },
          "metadata": {},
          "execution_count": 8
        }
      ]
    },
    {
      "cell_type": "code",
      "source": [
        "#Predicting the test set result  \n",
        "y_pred= clf.predict(x_test)\n",
        "temp1 = clf.predict_proba(x_test)\n",
        "print(y_pred)\n",
        "print(temp1[:,1])\n",
        "print(np.unique(temp1[:,1]))"
      ],
      "metadata": {
        "colab": {
          "base_uri": "https://localhost:8080/"
        },
        "id": "Vaye3fF9oA5h",
        "outputId": "afcf881a-e007-4f43-d61b-edc621ff1585"
      },
      "execution_count": 9,
      "outputs": [
        {
          "output_type": "stream",
          "name": "stdout",
          "text": [
            "[1 0 1 ... 1 0 1]\n",
            "[9.99997835e-01 1.00000010e-07 1.00000000e+00 ... 1.00000000e+00\n",
            " 1.00000010e-07 7.80098495e-01]\n",
            "[1.00000010e-07 1.01027010e-07 1.52931642e-07 1.58966588e-07\n",
            " 1.86468609e-07 1.94631322e-07 1.99331573e-07 2.15080210e-07\n",
            " 2.66436734e-07 2.71457238e-07 2.83968341e-07 3.30082352e-07\n",
            " 3.37723783e-07 3.61189654e-07 3.67545114e-07 3.74911735e-07\n",
            " 3.79050210e-07 3.89376521e-07 4.12797291e-07 4.26660013e-07\n",
            " 4.49970988e-07 4.67211342e-07 5.10985093e-07 5.72647441e-07\n",
            " 5.78034332e-07 5.78317105e-07 5.86229618e-07 6.73229496e-07\n",
            " 7.34301241e-07 7.37346136e-07 8.52827042e-07 8.65367544e-07\n",
            " 9.21863552e-07 9.71758332e-07 9.91618392e-07 1.00767381e-06\n",
            " 1.02427633e-06 1.06308730e-06 1.14329637e-06 1.19918344e-06\n",
            " 1.21184677e-06 1.29925657e-06 1.42216411e-06 1.53192304e-06\n",
            " 2.29024412e-06 2.32267217e-06 2.35601475e-06 2.54737811e-06\n",
            " 2.74665849e-06 2.81394409e-06 2.86575741e-06 2.95367858e-06\n",
            " 3.10231866e-06 3.22757058e-06 4.29959082e-06 4.52484715e-06\n",
            " 4.74546941e-06 5.70325366e-06 6.04737802e-06 6.13191520e-06\n",
            " 6.31267340e-06 7.45402840e-06 7.49025185e-06 8.51887802e-06\n",
            " 8.93359776e-06 9.06668980e-06 9.73338382e-06 1.01470711e-05\n",
            " 1.02826268e-05 1.23117477e-05 1.31924454e-05 1.48603892e-05\n",
            " 1.50363973e-05 1.55029461e-05 1.57136281e-05 1.66815470e-05\n",
            " 1.87776760e-05 1.91251608e-05 1.93872147e-05 2.00735540e-05\n",
            " 2.12507657e-05 2.16867058e-05 2.31043887e-05 2.47156489e-05\n",
            " 2.58263263e-05 2.61180531e-05 2.79730376e-05 3.04308949e-05\n",
            " 3.05835831e-05 3.25073381e-05 3.39852900e-05 3.66007617e-05\n",
            " 3.67544405e-05 3.75540318e-05 3.93876052e-05 4.56216298e-05\n",
            " 4.65015755e-05 4.85491597e-05 5.00706217e-05 5.15446624e-05\n",
            " 5.18606250e-05 5.68087791e-05 9.85075958e-05 1.09368067e-04\n",
            " 1.33534223e-04 1.38261241e-04 1.43353014e-04 1.47039521e-04\n",
            " 1.62563052e-04 1.68126714e-04 1.77688780e-04 1.79442669e-04\n",
            " 1.83116935e-04 1.95475158e-04 1.96225511e-04 1.96696734e-04\n",
            " 2.55363015e-04 2.76653400e-04 3.79050449e-04 4.19391975e-04\n",
            " 4.75216195e-04 4.99408712e-04 5.00642681e-04 5.25867945e-04\n",
            " 5.29437773e-04 5.60586219e-04 5.68773836e-04 5.90475308e-04\n",
            " 6.35316536e-04 7.34349607e-04 7.79310146e-04 7.82366428e-04\n",
            " 7.87479955e-04 8.55495006e-04 8.94343471e-04 9.29608533e-04\n",
            " 9.31779216e-04 9.45274026e-04 9.73984263e-04 9.74309496e-04\n",
            " 9.84320124e-04 9.88892451e-04 1.01679651e-03 1.06019028e-03\n",
            " 1.06249677e-03 1.08700640e-03 1.10727021e-03 1.11052076e-03\n",
            " 1.12013865e-03 1.12964838e-03 1.16090055e-03 1.17000556e-03\n",
            " 1.17824163e-03 1.20100321e-03 1.20234881e-03 1.20646500e-03\n",
            " 1.21220837e-03 1.21292736e-03 1.21524293e-03 1.22241094e-03\n",
            " 1.27527938e-03 1.27718205e-03 1.28436233e-03 1.28767339e-03\n",
            " 1.30194709e-03 1.31630071e-03 1.32103265e-03 1.32477794e-03\n",
            " 1.34338606e-03 1.34636037e-03 1.35502768e-03 1.35794668e-03\n",
            " 1.36394694e-03 1.37179383e-03 1.37271253e-03 1.38069915e-03\n",
            " 1.38263180e-03 1.40012812e-03 1.41759583e-03 1.43854733e-03\n",
            " 1.44166575e-03 1.46061703e-03 1.52122253e-03 1.56568185e-03\n",
            " 1.76281250e-03 1.82031291e-03 1.83127880e-03 1.96754530e-03\n",
            " 2.04900618e-03 2.10651916e-03 2.21363415e-03 2.21674294e-03\n",
            " 2.29355329e-03 2.35707989e-03 2.43090921e-03 2.56619794e-03\n",
            " 2.65406371e-03 2.92537570e-03 3.61281669e-03 4.10431241e-03\n",
            " 4.12905273e-03 4.90218986e-03 5.67177573e-03 6.39752203e-03\n",
            " 6.56453366e-03 7.21053317e-03 7.49103450e-03 7.55411833e-03\n",
            " 7.73330540e-03 9.51860817e-03 1.00175607e-02 1.10322258e-02\n",
            " 1.10569377e-02 1.29063811e-02 1.34471275e-02 1.39917644e-02\n",
            " 1.42772462e-02 1.43163094e-02 1.68729636e-02 2.27846347e-02\n",
            " 2.61974817e-02 2.72310633e-02 3.88763094e-02 4.33424949e-02\n",
            " 5.33531571e-02 5.90051002e-02 5.90095444e-02 5.95171918e-02\n",
            " 9.74126318e-02 1.13576901e-01 1.16868198e-01 1.21114964e-01\n",
            " 1.34058131e-01 1.34378927e-01 1.46913220e-01 1.58507418e-01\n",
            " 1.81904445e-01 1.83609167e-01 2.09753355e-01 2.24139160e-01\n",
            " 2.26937189e-01 2.28528623e-01 2.40332675e-01 2.43007303e-01\n",
            " 2.47658324e-01 3.22681268e-01 3.91982131e-01 4.39804694e-01\n",
            " 4.56236749e-01 5.88824317e-01 6.63896941e-01 6.74698626e-01\n",
            " 6.88011007e-01 6.95262825e-01 7.07716363e-01 7.12696150e-01\n",
            " 7.31878670e-01 7.32343104e-01 7.55409839e-01 7.71835668e-01\n",
            " 7.80098495e-01 8.49784991e-01 8.51029063e-01 8.63783313e-01\n",
            " 8.80647949e-01 8.85575585e-01 8.96533151e-01 8.98194524e-01\n",
            " 8.98640753e-01 9.00061503e-01 9.04273697e-01 9.05114239e-01\n",
            " 9.05508928e-01 9.21061693e-01 9.32142881e-01 9.32207737e-01\n",
            " 9.35380997e-01 9.36671903e-01 9.36681736e-01 9.36820545e-01\n",
            " 9.39038890e-01 9.40796979e-01 9.50252541e-01 9.51586411e-01\n",
            " 9.53331607e-01 9.54835939e-01 9.58106975e-01 9.59502219e-01\n",
            " 9.60896283e-01 9.62804560e-01 9.67507133e-01 9.68616463e-01\n",
            " 9.70170884e-01 9.70367421e-01 9.70558874e-01 9.74340081e-01\n",
            " 9.83097571e-01 9.86084470e-01 9.86252386e-01 9.86911317e-01\n",
            " 9.87124099e-01 9.87401313e-01 9.87921249e-01 9.88085397e-01\n",
            " 9.88209728e-01 9.88392452e-01 9.89626750e-01 9.89702760e-01\n",
            " 9.90297002e-01 9.90398752e-01 9.91347951e-01 9.91358406e-01\n",
            " 9.91726454e-01 9.91838769e-01 9.92022003e-01 9.92286335e-01\n",
            " 9.92439056e-01 9.92550302e-01 9.92575525e-01 9.92709496e-01\n",
            " 9.93040773e-01 9.93298083e-01 9.93752139e-01 9.93921332e-01\n",
            " 9.94007009e-01 9.94056989e-01 9.94386735e-01 9.94396037e-01\n",
            " 9.94418924e-01 9.94540018e-01 9.94822488e-01 9.94879892e-01\n",
            " 9.95815934e-01 9.96052461e-01 9.96107291e-01 9.96411292e-01\n",
            " 9.96442968e-01 9.96669239e-01 9.96697853e-01 9.96783276e-01\n",
            " 9.96905044e-01 9.97081085e-01 9.97086427e-01 9.97101730e-01\n",
            " 9.97110370e-01 9.97183001e-01 9.97199938e-01 9.97269286e-01\n",
            " 9.97271782e-01 9.97289090e-01 9.97326497e-01 9.97338842e-01\n",
            " 9.97350166e-01 9.97351112e-01 9.97361330e-01 9.97413730e-01\n",
            " 9.97419255e-01 9.97438605e-01 9.99981139e-01 9.99981160e-01\n",
            " 9.99982843e-01 9.99982917e-01 9.99982989e-01 9.99983176e-01\n",
            " 9.99983460e-01 9.99984069e-01 9.99985566e-01 9.99986136e-01\n",
            " 9.99986149e-01 9.99988542e-01 9.99989286e-01 9.99990280e-01\n",
            " 9.99990537e-01 9.99990641e-01 9.99991440e-01 9.99991947e-01\n",
            " 9.99992488e-01 9.99992663e-01 9.99993247e-01 9.99993414e-01\n",
            " 9.99993698e-01 9.99993831e-01 9.99993850e-01 9.99994124e-01\n",
            " 9.99994549e-01 9.99994761e-01 9.99994859e-01 9.99995142e-01\n",
            " 9.99995497e-01 9.99995568e-01 9.99996086e-01 9.99996454e-01\n",
            " 9.99996580e-01 9.99996807e-01 9.99997060e-01 9.99997285e-01\n",
            " 9.99997530e-01 9.99997596e-01 9.99997835e-01 9.99998014e-01\n",
            " 9.99998100e-01 9.99998117e-01 9.99998229e-01 9.99998372e-01\n",
            " 9.99998377e-01 9.99998414e-01 9.99998467e-01 9.99998479e-01\n",
            " 9.99998584e-01 9.99998714e-01 9.99998763e-01 9.99998989e-01\n",
            " 9.99999311e-01 9.99999406e-01 9.99999441e-01 9.99999445e-01\n",
            " 9.99999491e-01 9.99999543e-01 9.99999695e-01 9.99999780e-01\n",
            " 9.99999885e-01 9.99999896e-01 9.99999909e-01 9.99999930e-01\n",
            " 9.99999963e-01 9.99999977e-01 9.99999977e-01 9.99999978e-01\n",
            " 9.99999979e-01 9.99999987e-01 9.99999988e-01 9.99999990e-01\n",
            " 9.99999992e-01 9.99999992e-01 9.99999993e-01 9.99999993e-01\n",
            " 9.99999993e-01 9.99999993e-01 9.99999996e-01 9.99999996e-01\n",
            " 9.99999998e-01 9.99999999e-01 1.00000000e+00 1.00000000e+00\n",
            " 1.00000000e+00 1.00000000e+00 1.00000000e+00 1.00000000e+00\n",
            " 1.00000000e+00 1.00000000e+00 1.00000000e+00 1.00000000e+00\n",
            " 1.00000000e+00 1.00000000e+00 1.00000000e+00 1.00000000e+00\n",
            " 1.00000000e+00 1.00000000e+00 1.00000000e+00 1.00000000e+00\n",
            " 1.00000000e+00 1.00000000e+00 1.00000000e+00 1.00000000e+00\n",
            " 1.00000000e+00 1.00000000e+00 1.00000000e+00 1.00000000e+00\n",
            " 1.00000000e+00 1.00000000e+00 1.00000000e+00 1.00000000e+00\n",
            " 1.00000000e+00 1.00000000e+00 1.00000000e+00 1.00000000e+00\n",
            " 1.00000000e+00 1.00000000e+00 1.00000000e+00 1.00000000e+00\n",
            " 1.00000000e+00 1.00000000e+00 1.00000000e+00 1.00000000e+00\n",
            " 1.00000000e+00 1.00000000e+00 1.00000000e+00 1.00000000e+00\n",
            " 1.00000000e+00]\n"
          ]
        }
      ]
    },
    {
      "cell_type": "code",
      "source": [
        "clf.score(x_test, y_test)"
      ],
      "metadata": {
        "colab": {
          "base_uri": "https://localhost:8080/"
        },
        "id": "mCCaisS8oHdj",
        "outputId": "deba3870-b930-4583-b8dc-fe60c4195b22"
      },
      "execution_count": 10,
      "outputs": [
        {
          "output_type": "execute_result",
          "data": {
            "text/plain": [
              "0.9952380952380953"
            ]
          },
          "metadata": {},
          "execution_count": 10
        }
      ]
    },
    {
      "cell_type": "code",
      "source": [
        "from sklearn.model_selection import cross_val_score\n",
        "#train model with cv of 5 \n",
        "cv_scores = cross_val_score(clf, x, y, cv=5)\n",
        "#print each cv score (accuracy) and average them\n",
        "print(cv_scores)\n",
        "print('cv_scores mean:{}'.format(np.mean(cv_scores)))"
      ],
      "metadata": {
        "colab": {
          "base_uri": "https://localhost:8080/"
        },
        "id": "EcdGssQwoNo7",
        "outputId": "80d5b1bc-4e41-460e-edb3-a11cff95bee7"
      },
      "execution_count": 11,
      "outputs": [
        {
          "output_type": "stream",
          "name": "stderr",
          "text": [
            "/usr/local/lib/python3.9/dist-packages/sklearn/utils/validation.py:1143: DataConversionWarning:\n",
            "\n",
            "A column-vector y was passed when a 1d array was expected. Please change the shape of y to (n_samples, ), for example using ravel().\n",
            "\n",
            "/usr/local/lib/python3.9/dist-packages/sklearn/utils/validation.py:1143: DataConversionWarning:\n",
            "\n",
            "A column-vector y was passed when a 1d array was expected. Please change the shape of y to (n_samples, ), for example using ravel().\n",
            "\n",
            "/usr/local/lib/python3.9/dist-packages/sklearn/utils/validation.py:1143: DataConversionWarning:\n",
            "\n",
            "A column-vector y was passed when a 1d array was expected. Please change the shape of y to (n_samples, ), for example using ravel().\n",
            "\n",
            "/usr/local/lib/python3.9/dist-packages/sklearn/utils/validation.py:1143: DataConversionWarning:\n",
            "\n",
            "A column-vector y was passed when a 1d array was expected. Please change the shape of y to (n_samples, ), for example using ravel().\n",
            "\n",
            "/usr/local/lib/python3.9/dist-packages/sklearn/utils/validation.py:1143: DataConversionWarning:\n",
            "\n",
            "A column-vector y was passed when a 1d array was expected. Please change the shape of y to (n_samples, ), for example using ravel().\n",
            "\n"
          ]
        },
        {
          "output_type": "stream",
          "name": "stdout",
          "text": [
            "[0.82043651 0.99107143 0.98710317 1.         0.94146825]\n",
            "cv_scores mean:0.9480158730158731\n"
          ]
        }
      ]
    },
    {
      "cell_type": "code",
      "source": [
        "from sklearn.metrics import average_precision_score\n",
        "from sklearn.metrics import recall_score\n",
        "from sklearn.metrics import precision_score\n",
        "\n",
        "average_precision = average_precision_score(y_test, temp1[:,1])\n",
        "\n",
        "print('Average precision score: {0:0.2f}'.format(average_precision))\n",
        "\n",
        "\n",
        "precision_val = precision_score(y_test, y_pred, average=\"binary\")\n",
        "print(\"Precision:\",precision_val)\n",
        "\n",
        "recall_val = recall_score(y_test, y_pred, average=\"binary\")\n",
        "print(\"Recall:\",recall_val)"
      ],
      "metadata": {
        "colab": {
          "base_uri": "https://localhost:8080/"
        },
        "id": "JaOgAorjoSwW",
        "outputId": "66b5e235-7028-4950-d1f0-81c9e147c230"
      },
      "execution_count": 12,
      "outputs": [
        {
          "output_type": "stream",
          "name": "stdout",
          "text": [
            "Average precision score: 1.00\n",
            "Precision: 0.9884836852207294\n",
            "Recall: 1.0\n"
          ]
        }
      ]
    },
    {
      "cell_type": "code",
      "source": [
        "from sklearn.metrics import precision_recall_curve\n",
        "from sklearn.metrics import PrecisionRecallDisplay\n",
        "import matplotlib.pyplot as plt\n",
        "\n",
        "precision, recall, _ = precision_recall_curve(y_test, y_pred)\n",
        "\n",
        "disp = PrecisionRecallDisplay(precision, recall)\n",
        "disp.plot()\n",
        "\n",
        "plt.tight_layout()\n",
        "plt.savefig('Logistic_P_P-R.eps', format='eps')"
      ],
      "metadata": {
        "colab": {
          "base_uri": "https://localhost:8080/",
          "height": 297
        },
        "id": "BhOVmbA-ojxr",
        "outputId": "0afba756-3e02-41d8-91d0-d9e7c8b885ac"
      },
      "execution_count": 17,
      "outputs": [
        {
          "output_type": "display_data",
          "data": {
            "text/plain": [
              "<Figure size 432x288 with 1 Axes>"
            ],
            "image/png": "[encoded data removed]"
          },
          "metadata": {
            "needs_background": "light"
          }
        }
      ]
    },
    {
      "cell_type": "code",
      "source": [
        "#Creating the Confusion matrix  \n",
        "from sklearn.metrics import confusion_matrix  \n",
        "cm= confusion_matrix(y_test,y_pred)\n",
        "print(cm)  "
      ],
      "metadata": {
        "colab": {
          "base_uri": "https://localhost:8080/"
        },
        "id": "P49BmVAmomYj",
        "outputId": "e83ea7c5-aac9-4286-e0c1-265c94113355"
      },
      "execution_count": 18,
      "outputs": [
        {
          "output_type": "stream",
          "name": "stdout",
          "text": [
            "[[739   6]\n",
            " [  0 515]]\n"
          ]
        }
      ]
    },
    {
      "cell_type": "code",
      "source": [
        "import matplotlib.pyplot as plt \n",
        "from sklearn.metrics import ConfusionMatrixDisplay\n",
        "disp = ConfusionMatrixDisplay(cm)\n",
        "disp.plot()\n",
        "plt.tight_layout()\n",
        "plt.savefig('Logistic_P_CM.eps', format='eps')"
      ],
      "metadata": {
        "colab": {
          "base_uri": "https://localhost:8080/",
          "height": 297
        },
        "id": "8oXufoNGopJj",
        "outputId": "f2119f0e-5499-417d-f94e-3fd426638d9e"
      },
      "execution_count": 20,
      "outputs": [
        {
          "output_type": "display_data",
          "data": {
            "text/plain": [
              "<Figure size 432x288 with 2 Axes>"
            ],
            "image/png": "[encoded data removed]"
          },
          "metadata": {
            "needs_background": "light"
          }
        }
      ]
    }
  ]
}