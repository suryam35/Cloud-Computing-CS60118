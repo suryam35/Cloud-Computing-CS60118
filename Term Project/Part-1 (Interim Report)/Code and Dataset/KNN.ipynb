{
 "cells": [
  {
   "cell_type": "code",
   "execution_count": 1,
   "metadata": {
    "colab": {
     "base_uri": "https://localhost:8080/"
    },
    "executionInfo": {
     "elapsed": 1976,
     "status": "ok",
     "timestamp": 1618812076869,
     "user": {
      "displayName": "PRAVAR CHAURASIA",
      "photoUrl": "",
      "userId": "14054420365394464965"
     },
     "user_tz": -330
    },
    "id": "2rWnnXreI0ET",
    "outputId": "6f5554be-cc6d-4472-d34c-6c232c94c958"
   },
   "outputs": [],
   "source": [
    "import os\n",
    "import numpy as np"
   ]
  },
  {
   "cell_type": "code",
   "execution_count": 2,
   "metadata": {
    "executionInfo": {
     "elapsed": 1972,
     "status": "ok",
     "timestamp": 1618812076869,
     "user": {
      "displayName": "PRAVAR CHAURASIA",
      "photoUrl": "",
      "userId": "14054420365394464965"
     },
     "user_tz": -330
    },
    "id": "bF--1tapIAtI"
   },
   "outputs": [],
   "source": [
    "import csv\n",
    "import numpy as np\n",
    "import pandas as pd\n",
    "import plotly.offline as plt\n",
    "import plotly.graph_objs as go\n",
    "import matplotlib.pyplot as mtp"
   ]
  },
  {
   "cell_type": "markdown",
   "metadata": {
    "id": "PRgLNKdEn0PV"
   },
   "source": [
    "Loading Data"
   ]
  },
  {
   "cell_type": "code",
   "execution_count": 3,
   "metadata": {
    "colab": {
     "base_uri": "https://localhost:8080/"
    },
    "executionInfo": {
     "elapsed": 1968,
     "status": "ok",
     "timestamp": 1618812076869,
     "user": {
      "displayName": "PRAVAR CHAURASIA",
      "photoUrl": "",
      "userId": "14054420365394464965"
     },
     "user_tz": -330
    },
    "id": "M5A9QNiPJnsI",
    "outputId": "2b762aa0-c4e4-4a00-d232-149fd1d70a5b"
   },
   "outputs": [
    {
     "name": "stdout",
     "output_type": "stream",
     "text": [
      "      Limitied_CPU  Limited_Mem  Auto Scalabilty  Multi Host  Rolling Update  \\\n",
      "0                6            4                5           0               2   \n",
      "1                6            4                5           0               2   \n",
      "2                6            4                5           0               3   \n",
      "3                6            4                5           0               3   \n",
      "4                6            4                5           0               1   \n",
      "...            ...          ...              ...         ...             ...   \n",
      "5035             0            2                1           3               6   \n",
      "5036             0            2                1           3               5   \n",
      "5037             0            2                1           3               5   \n",
      "5038             0            2                1           3               4   \n",
      "5039             0            2                1           3               4   \n",
      "\n",
      "      Load Balancing  Delay Requirements  Output  \n",
      "0                  1                   3       0  \n",
      "1                  3                   1       0  \n",
      "2                  1                   2       0  \n",
      "3                  2                   1       0  \n",
      "4                  2                   3       0  \n",
      "...              ...                 ...     ...  \n",
      "5035               5                   4       0  \n",
      "5036               4                   6       1  \n",
      "5037               6                   4       0  \n",
      "5038               5                   6       1  \n",
      "5039               6                   5       0  \n",
      "\n",
      "[5040 rows x 8 columns]\n"
     ]
    }
   ],
   "source": [
    "data = pd.read_csv(r\"Data_Points.csv\")\n",
    "print(data)"
   ]
  },
  {
   "cell_type": "code",
   "execution_count": 4,
   "metadata": {
    "colab": {
     "base_uri": "https://localhost:8080/"
    },
    "executionInfo": {
     "elapsed": 1964,
     "status": "ok",
     "timestamp": 1618812076870,
     "user": {
      "displayName": "PRAVAR CHAURASIA",
      "photoUrl": "",
      "userId": "14054420365394464965"
     },
     "user_tz": -330
    },
    "id": "llc69o1tB9f5",
    "outputId": "78ec5351-46e8-4808-83a6-0f3d9cb4aa03"
   },
   "outputs": [
    {
     "name": "stdout",
     "output_type": "stream",
     "text": [
      "(5040, 7)\n",
      "(5040, 1)\n",
      "[[6 4 5 ... 2 1 3]\n",
      " [6 4 5 ... 2 3 1]\n",
      " [6 4 5 ... 3 1 2]\n",
      " ...\n",
      " [0 2 1 ... 5 6 4]\n",
      " [0 2 1 ... 4 5 6]\n",
      " [0 2 1 ... 4 6 5]]\n",
      "[[0]\n",
      " [0]\n",
      " [0]\n",
      " ...\n",
      " [0]\n",
      " [1]\n",
      " [0]]\n"
     ]
    }
   ],
   "source": [
    "x= data.iloc[:, 0:7].values  \n",
    "y= data.iloc[:, 7:8].values  \n",
    "print(x.shape)\n",
    "print(y.shape)\n",
    "print(x)\n",
    "print(y)"
   ]
  },
  {
   "cell_type": "markdown",
   "metadata": {
    "id": "UBqAQnG3n7Oc"
   },
   "source": [
    "Splitting Train and Test data"
   ]
  },
  {
   "cell_type": "code",
   "execution_count": 5,
   "metadata": {
    "executionInfo": {
     "elapsed": 1960,
     "status": "ok",
     "timestamp": 1618812076870,
     "user": {
      "displayName": "PRAVAR CHAURASIA",
      "photoUrl": "",
      "userId": "14054420365394464965"
     },
     "user_tz": -330
    },
    "id": "fL1LHUhEBxyB"
   },
   "outputs": [],
   "source": [
    "from sklearn.model_selection import train_test_split  \n",
    "x_train, x_test, y_train, y_test= train_test_split(x, y, test_size= 0.25, random_state=0)  "
   ]
  },
  {
   "cell_type": "code",
   "execution_count": 6,
   "metadata": {
    "executionInfo": {
     "elapsed": 1956,
     "status": "ok",
     "timestamp": 1618812076871,
     "user": {
      "displayName": "PRAVAR CHAURASIA",
      "photoUrl": "",
      "userId": "14054420365394464965"
     },
     "user_tz": -330
    },
    "id": "SA620lssJsAA"
   },
   "outputs": [],
   "source": [
    "#feature Scaling  \n",
    "from sklearn.preprocessing import StandardScaler    \n",
    "st_x= StandardScaler()    \n",
    "x_train= st_x.fit_transform(x_train)    \n",
    "x_test= st_x.transform(x_test)  "
   ]
  },
  {
   "cell_type": "code",
   "execution_count": 7,
   "metadata": {
    "colab": {
     "base_uri": "https://localhost:8080/"
    },
    "executionInfo": {
     "elapsed": 1951,
     "status": "ok",
     "timestamp": 1618812076871,
     "user": {
      "displayName": "PRAVAR CHAURASIA",
      "photoUrl": "",
      "userId": "14054420365394464965"
     },
     "user_tz": -330
    },
    "id": "5TkIoMTNJ8O6",
    "outputId": "537614f5-811e-4398-93e1-cdcc61997d20"
   },
   "outputs": [
    {
     "name": "stderr",
     "output_type": "stream",
     "text": [
      "/tmp/ipykernel_30586/4158738347.py:4: DataConversionWarning:\n",
      "\n",
      "A column-vector y was passed when a 1d array was expected. Please change the shape of y to (n_samples, ), for example using ravel().\n",
      "\n"
     ]
    }
   ],
   "source": [
    "#Fitting K-NN classifier to the training set  \n",
    "from sklearn.neighbors import KNeighborsClassifier  \n",
    "classifier= KNeighborsClassifier(n_neighbors=5, metric='minkowski', p=2 )  \n",
    "model= classifier.fit(x_train, y_train)  "
   ]
  },
  {
   "cell_type": "code",
   "execution_count": 8,
   "metadata": {
    "colab": {
     "base_uri": "https://localhost:8080/"
    },
    "executionInfo": {
     "elapsed": 1946,
     "status": "ok",
     "timestamp": 1618812076871,
     "user": {
      "displayName": "PRAVAR CHAURASIA",
      "photoUrl": "",
      "userId": "14054420365394464965"
     },
     "user_tz": -330
    },
    "id": "CLD2yMWvKDfY",
    "outputId": "75ed2dab-c5fe-4064-fc11-2dd3beca9cb7"
   },
   "outputs": [
    {
     "name": "stdout",
     "output_type": "stream",
     "text": [
      "[1 0 1 ... 1 0 1]\n",
      "[0.8 0.  1.  ... 1.  0.  0.8]\n",
      "[0.  0.2 0.4 0.6 0.8 1. ]\n"
     ]
    }
   ],
   "source": [
    "y_pred= classifier.predict(x_test)  \n",
    "temp1 = classifier.predict_proba(x_test)   \n",
    "print(y_pred)\n",
    "print(temp1[:,1])\n",
    "print(np.unique(temp1[:,1]))"
   ]
  },
  {
   "cell_type": "markdown",
   "metadata": {
    "id": "O77pjPNhUSYj"
   },
   "source": [
    "Acc"
   ]
  },
  {
   "cell_type": "code",
   "execution_count": 9,
   "metadata": {
    "colab": {
     "base_uri": "https://localhost:8080/"
    },
    "executionInfo": {
     "elapsed": 1942,
     "status": "ok",
     "timestamp": 1618812076872,
     "user": {
      "displayName": "PRAVAR CHAURASIA",
      "photoUrl": "",
      "userId": "14054420365394464965"
     },
     "user_tz": -330
    },
    "id": "YRH8uV8oWITp",
    "outputId": "a57611d0-f227-4289-c9c3-cfb21f9afd70"
   },
   "outputs": [
    {
     "data": {
      "text/plain": [
       "0.9650793650793651"
      ]
     },
     "execution_count": 9,
     "metadata": {},
     "output_type": "execute_result"
    }
   ],
   "source": [
    "classifier.score(x_test, y_test)"
   ]
  },
  {
   "cell_type": "markdown",
   "metadata": {
    "id": "CK4yIAGnXRq9"
   },
   "source": [
    "Cross Validation"
   ]
  },
  {
   "cell_type": "code",
   "execution_count": 10,
   "metadata": {
    "colab": {
     "base_uri": "https://localhost:8080/"
    },
    "executionInfo": {
     "elapsed": 2312,
     "status": "ok",
     "timestamp": 1618812077246,
     "user": {
      "displayName": "PRAVAR CHAURASIA",
      "photoUrl": "",
      "userId": "14054420365394464965"
     },
     "user_tz": -330
    },
    "id": "s7k6U5rmVeR7",
    "outputId": "e6a4d2de-d2bb-4274-b3a8-b387d0e5cf2a"
   },
   "outputs": [
    {
     "name": "stderr",
     "output_type": "stream",
     "text": [
      "/usr/lib/python3/dist-packages/sklearn/model_selection/_validation.py:531: DataConversionWarning:\n",
      "\n",
      "A column-vector y was passed when a 1d array was expected. Please change the shape of y to (n_samples, ), for example using ravel().\n",
      "\n",
      "/usr/lib/python3/dist-packages/sklearn/model_selection/_validation.py:531: DataConversionWarning:\n",
      "\n",
      "A column-vector y was passed when a 1d array was expected. Please change the shape of y to (n_samples, ), for example using ravel().\n",
      "\n",
      "/usr/lib/python3/dist-packages/sklearn/model_selection/_validation.py:531: DataConversionWarning:\n",
      "\n",
      "A column-vector y was passed when a 1d array was expected. Please change the shape of y to (n_samples, ), for example using ravel().\n",
      "\n",
      "/usr/lib/python3/dist-packages/sklearn/model_selection/_validation.py:531: DataConversionWarning:\n",
      "\n",
      "A column-vector y was passed when a 1d array was expected. Please change the shape of y to (n_samples, ), for example using ravel().\n",
      "\n"
     ]
    },
    {
     "name": "stdout",
     "output_type": "stream",
     "text": [
      "[0.89583333 0.95238095 0.95535714 0.96230159 0.91269841]\n",
      "cv_scores mean:0.9357142857142857\n"
     ]
    },
    {
     "name": "stderr",
     "output_type": "stream",
     "text": [
      "/usr/lib/python3/dist-packages/sklearn/model_selection/_validation.py:531: DataConversionWarning:\n",
      "\n",
      "A column-vector y was passed when a 1d array was expected. Please change the shape of y to (n_samples, ), for example using ravel().\n",
      "\n"
     ]
    }
   ],
   "source": [
    "from sklearn.model_selection import cross_val_score\n",
    "#create a new KNN model\n",
    "knn_cv= classifier\n",
    "#train model with cv of 5 \n",
    "cv_scores = cross_val_score(knn_cv, x, y, cv=5)\n",
    "#print each cv score (accuracy) and average them\n",
    "print(cv_scores)\n",
    "print('cv_scores mean:{}'.format(np.mean(cv_scores)))"
   ]
  },
  {
   "cell_type": "markdown",
   "metadata": {
    "id": "rqd_vWu_XY8t"
   },
   "source": [
    "Creating the Confusion matrix "
   ]
  },
  {
   "cell_type": "code",
   "execution_count": 11,
   "metadata": {
    "colab": {
     "base_uri": "https://localhost:8080/"
    },
    "executionInfo": {
     "elapsed": 2308,
     "status": "ok",
     "timestamp": 1618812077247,
     "user": {
      "displayName": "PRAVAR CHAURASIA",
      "photoUrl": "",
      "userId": "14054420365394464965"
     },
     "user_tz": -330
    },
    "id": "iMRD3vskKJMX",
    "outputId": "74913e6a-d7c1-47f9-bccd-7ed3a767fce2"
   },
   "outputs": [
    {
     "name": "stdout",
     "output_type": "stream",
     "text": [
      "[[722  23]\n",
      " [ 21 494]]\n"
     ]
    }
   ],
   "source": [
    "from sklearn.metrics import confusion_matrix  \n",
    "cm= confusion_matrix(y_test, y_pred) \n",
    "print(cm) "
   ]
  },
  {
   "cell_type": "markdown",
   "metadata": {
    "id": "uF2kUYh4JgM2"
   },
   "source": [
    "Plot cm\n"
   ]
  },
  {
   "cell_type": "code",
   "execution_count": 12,
   "metadata": {
    "colab": {
     "base_uri": "https://localhost:8080/",
     "height": 0
    },
    "executionInfo": {
     "elapsed": 2953,
     "status": "ok",
     "timestamp": 1618812077897,
     "user": {
      "displayName": "PRAVAR CHAURASIA",
      "photoUrl": "",
      "userId": "14054420365394464965"
     },
     "user_tz": -330
    },
    "id": "ltMLeqBCJjCb",
    "outputId": "ad2b65e1-2dbc-4319-a4e6-8010f5d869c9"
   },
   "outputs": [
    {
     "data": {
      "image/png": "[encoded data removed]",
      "text/plain": [
       "<Figure size 432x288 with 2 Axes>"
      ]
     },
     "metadata": {
      "needs_background": "light"
     },
     "output_type": "display_data"
    }
   ],
   "source": [
    "import matplotlib.pyplot as plt \n",
    "from sklearn.metrics import plot_confusion_matrix\n",
    "plot_confusion_matrix(classifier, x_test, y_test)\n",
    "plt.tight_layout()\n",
    "plt.savefig('KNN_CM.eps', format='eps')"
   ]
  },
  {
   "cell_type": "markdown",
   "metadata": {
    "id": "I2ektbJfUIf-"
   },
   "source": [
    "Precision & Recall score"
   ]
  },
  {
   "cell_type": "code",
   "execution_count": 13,
   "metadata": {
    "colab": {
     "base_uri": "https://localhost:8080/"
    },
    "executionInfo": {
     "elapsed": 2948,
     "status": "ok",
     "timestamp": 1618812077898,
     "user": {
      "displayName": "PRAVAR CHAURASIA",
      "photoUrl": "",
      "userId": "14054420365394464965"
     },
     "user_tz": -330
    },
    "id": "49dh5Ks0LrHh",
    "outputId": "84a7f51b-3bdf-4609-a431-e485ca628b68"
   },
   "outputs": [
    {
     "name": "stdout",
     "output_type": "stream",
     "text": [
      "Average precision score: 0.99\n",
      "Precision score: 0.9555125725338491\n",
      "Recall score: 0.9592233009708738\n"
     ]
    }
   ],
   "source": [
    "from sklearn.metrics import average_precision_score\n",
    "from sklearn.metrics import recall_score\n",
    "from sklearn.metrics import precision_score\n",
    "# Avg_prec--> for all instances\n",
    "average_precision = average_precision_score(y_test, temp1[:,1])\n",
    "\n",
    "print('Average precision score: {0:0.2f}'.format(average_precision))\n",
    "\n",
    "# precision for instance with some probability --> default is .5\n",
    "precision_var = precision_score(y_test, y_pred, average=\"binary\")\n",
    "print(\"Precision score:\",precision_var)\n",
    "\n",
    "recall_var = recall_score(y_test, y_pred, average=\"binary\")\n",
    "print(\"Recall score:\",recall_var)"
   ]
  },
  {
   "cell_type": "markdown",
   "metadata": {
    "id": "68QaFL8mUD93"
   },
   "source": [
    "Precision-Recall Curve"
   ]
  },
  {
   "cell_type": "code",
   "execution_count": 14,
   "metadata": {
    "colab": {
     "base_uri": "https://localhost:8080/",
     "height": 0
    },
    "executionInfo": {
     "elapsed": 3629,
     "status": "ok",
     "timestamp": 1618812078584,
     "user": {
      "displayName": "PRAVAR CHAURASIA",
      "photoUrl": "",
      "userId": "14054420365394464965"
     },
     "user_tz": -330
    },
    "id": "mH-_QZPKx6TT",
    "outputId": "e02463dd-6513-4807-8a15-bd79b0f1c300"
   },
   "outputs": [
    {
     "name": "stderr",
     "output_type": "stream",
     "text": [
      "The PostScript backend does not support transparency; partially transparent artists will be rendered opaque.\n"
     ]
    },
    {
     "data": {
      "image/png": "[encoded data removed]",
      "text/plain": [
       "<Figure size 432x288 with 1 Axes>"
      ]
     },
     "metadata": {
      "needs_background": "light"
     },
     "output_type": "display_data"
    }
   ],
   "source": [
    "from sklearn.metrics import average_precision_score\n",
    "from sklearn.metrics import precision_recall_curve\n",
    "from sklearn.metrics import plot_precision_recall_curve\n",
    "import matplotlib.pyplot as plt\n",
    "\n",
    "disp = plot_precision_recall_curve(classifier, x_test, y_test, name=\"KNN\")\n",
    "disp.ax_.set_title('2-class Precision-Recall curve: '\n",
    "                   'AP={0:0.2f}'.format(average_precision))\n",
    "\n",
    "plt.tight_layout()\n",
    "plt.savefig('KNN_P_P-R.eps', format='eps')\n"
   ]
  },
  {
   "cell_type": "code",
   "execution_count": 15,
   "metadata": {
    "colab": {
     "base_uri": "https://localhost:8080/"
    },
    "executionInfo": {
     "elapsed": 3624,
     "status": "ok",
     "timestamp": 1618812078585,
     "user": {
      "displayName": "PRAVAR CHAURASIA",
      "photoUrl": "",
      "userId": "14054420365394464965"
     },
     "user_tz": -330
    },
    "id": "FOAC4qSOEUsO",
    "outputId": "633ec4f2-bdf3-40cb-c93a-5f7d9df12983"
   },
   "outputs": [
    {
     "data": {
      "text/plain": [
       "0.9573643410852712"
      ]
     },
     "execution_count": 15,
     "metadata": {},
     "output_type": "execute_result"
    }
   ],
   "source": [
    "from sklearn.metrics import f1_score\n",
    "f1_score(y_test, y_pred)"
   ]
  },
  {
   "cell_type": "markdown",
   "metadata": {
    "id": "n6-A8gwBE3Kr"
   },
   "source": [
    "ROC Curve"
   ]
  },
  {
   "cell_type": "code",
   "execution_count": 16,
   "metadata": {
    "colab": {
     "base_uri": "https://localhost:8080/",
     "height": 0
    },
    "executionInfo": {
     "elapsed": 3620,
     "status": "ok",
     "timestamp": 1618812078586,
     "user": {
      "displayName": "PRAVAR CHAURASIA",
      "photoUrl": "",
      "userId": "14054420365394464965"
     },
     "user_tz": -330
    },
    "id": "Pml3S7zXE40d",
    "outputId": "b78b3324-f68a-4858-80a2-fd9016cb2e05"
   },
   "outputs": [
    {
     "data": {
      "text/plain": [
       "<sklearn.metrics._plot.roc_curve.RocCurveDisplay at 0x7f248c32b490>"
      ]
     },
     "execution_count": 16,
     "metadata": {},
     "output_type": "execute_result"
    },
    {
     "data": {
      "image/png": "[encoded data removed]",
      "text/plain": [
       "<Figure size 432x288 with 1 Axes>"
      ]
     },
     "metadata": {
      "needs_background": "light"
     },
     "output_type": "display_data"
    }
   ],
   "source": [
    "from sklearn import metrics\n",
    "metrics.plot_roc_curve(classifier, x_test, y_test)"
   ]
  },
  {
   "cell_type": "markdown",
   "metadata": {
    "id": "jbbT0RtlZhlW"
   },
   "source": [
    "Predict"
   ]
  },
  {
   "cell_type": "code",
   "execution_count": 17,
   "metadata": {
    "colab": {
     "base_uri": "https://localhost:8080/"
    },
    "executionInfo": {
     "elapsed": 3616,
     "status": "ok",
     "timestamp": 1618812078587,
     "user": {
      "displayName": "PRAVAR CHAURASIA",
      "photoUrl": "",
      "userId": "14054420365394464965"
     },
     "user_tz": -330
    },
    "id": "l_rsbs6VZgiO",
    "outputId": "ea4d19c0-e209-486d-bade-9d5330dc2d52"
   },
   "outputs": [
    {
     "name": "stdout",
     "output_type": "stream",
     "text": [
      "[0]\n"
     ]
    }
   ],
   "source": [
    "predicted= classifier.predict([[2,1,3,4,5,6,0]])\n",
    "print(predicted)"
   ]
  }
 ],
 "metadata": {
  "colab": {
   "authorship_tag": "ABX9TyOGBw8ZU45Sq4U2aycnoQfS",
   "collapsed_sections": [],
   "name": "KNN_2.ipynb",
   "provenance": [
    {
     "file_id": "1lls1QBrXumljjE04yLEeFdZgAw9DDKzJ",
     "timestamp": 1618732675152
    }
   ]
  },
  "kernelspec": {
   "display_name": "Python 3 (ipykernel)",
   "language": "python",
   "name": "python3"
  },
  "language_info": {
   "codemirror_mode": {
    "name": "ipython",
    "version": 3
   },
   "file_extension": ".py",
   "mimetype": "text/x-python",
   "name": "python",
   "nbconvert_exporter": "python",
   "pygments_lexer": "ipython3",
   "version": "3.10.6"
  }
 },
 "nbformat": 4,
 "nbformat_minor": 1
}
