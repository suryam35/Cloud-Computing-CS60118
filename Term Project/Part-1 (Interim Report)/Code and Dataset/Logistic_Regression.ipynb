{
 "cells": [
  {
   "cell_type": "code",
   "execution_count": 1,
   "metadata": {
    "executionInfo": {
     "elapsed": 2999,
     "status": "ok",
     "timestamp": 1618812085161,
     "user": {
      "displayName": "PRAVAR CHAURASIA",
      "photoUrl": "",
      "userId": "14054420365394464965"
     },
     "user_tz": -330
    },
    "id": "OxQJIMmRx4tj"
   },
   "outputs": [],
   "source": [
    "import os\n",
    "import numpy as np"
   ]
  },
  {
   "cell_type": "code",
   "execution_count": 2,
   "metadata": {
    "executionInfo": {
     "elapsed": 2997,
     "status": "ok",
     "timestamp": 1618812085162,
     "user": {
      "displayName": "PRAVAR CHAURASIA",
      "photoUrl": "",
      "userId": "14054420365394464965"
     },
     "user_tz": -330
    },
    "id": "AGzWhglFx7uz"
   },
   "outputs": [],
   "source": [
    "import csv\n",
    "import numpy as np\n",
    "import pandas as pd\n",
    "import plotly.offline as plt\n",
    "import plotly.graph_objs as go\n",
    "import matplotlib.pyplot as mtp"
   ]
  },
  {
   "cell_type": "code",
   "execution_count": 3,
   "metadata": {
    "colab": {
     "base_uri": "https://localhost:8080/"
    },
    "executionInfo": {
     "elapsed": 2993,
     "status": "ok",
     "timestamp": 1618812085163,
     "user": {
      "displayName": "PRAVAR CHAURASIA",
      "photoUrl": "",
      "userId": "14054420365394464965"
     },
     "user_tz": -330
    },
    "id": "1tHyNXBQx9yh",
    "outputId": "3bd93427-cac7-4c24-c8c3-12ccc75787ab"
   },
   "outputs": [
    {
     "name": "stdout",
     "output_type": "stream",
     "text": [
      "      Limitied_CPU  Limited_Mem  Auto Scalabilty  Multi Host  Rolling Update  \\\n",
      "0                6            4                5           0               2   \n",
      "1                6            4                5           0               2   \n",
      "2                6            4                5           0               3   \n",
      "3                6            4                5           0               3   \n",
      "4                6            4                5           0               1   \n",
      "...            ...          ...              ...         ...             ...   \n",
      "5035             0            2                1           3               6   \n",
      "5036             0            2                1           3               5   \n",
      "5037             0            2                1           3               5   \n",
      "5038             0            2                1           3               4   \n",
      "5039             0            2                1           3               4   \n",
      "\n",
      "      Load Balancing  Delay Requirements  Output  \n",
      "0                  1                   3       0  \n",
      "1                  3                   1       0  \n",
      "2                  1                   2       0  \n",
      "3                  2                   1       0  \n",
      "4                  2                   3       0  \n",
      "...              ...                 ...     ...  \n",
      "5035               5                   4       0  \n",
      "5036               4                   6       1  \n",
      "5037               6                   4       0  \n",
      "5038               5                   6       1  \n",
      "5039               6                   5       0  \n",
      "\n",
      "[5040 rows x 8 columns]\n"
     ]
    }
   ],
   "source": [
    "data = pd.read_csv(r\"Data_Points.csv\")\n",
    "print(data)"
   ]
  },
  {
   "cell_type": "code",
   "execution_count": 4,
   "metadata": {
    "colab": {
     "base_uri": "https://localhost:8080/"
    },
    "executionInfo": {
     "elapsed": 2988,
     "status": "ok",
     "timestamp": 1618812085163,
     "user": {
      "displayName": "PRAVAR CHAURASIA",
      "photoUrl": "",
      "userId": "14054420365394464965"
     },
     "user_tz": -330
    },
    "id": "AplJc8v2yRBV",
    "outputId": "890469c1-59e7-47c9-a212-2cd354fa87a7"
   },
   "outputs": [
    {
     "name": "stdout",
     "output_type": "stream",
     "text": [
      "(5040, 7)\n",
      "(5040, 1)\n",
      "[[6 4 5 ... 2 1 3]\n",
      " [6 4 5 ... 2 3 1]\n",
      " [6 4 5 ... 3 1 2]\n",
      " ...\n",
      " [0 2 1 ... 5 6 4]\n",
      " [0 2 1 ... 4 5 6]\n",
      " [0 2 1 ... 4 6 5]]\n",
      "[[0]\n",
      " [0]\n",
      " [0]\n",
      " ...\n",
      " [0]\n",
      " [1]\n",
      " [0]]\n"
     ]
    }
   ],
   "source": [
    "x= data.iloc[:, 0:7].values  \n",
    "y= data.iloc[:, 7:8].values \n",
    "print(x.shape)\n",
    "print(y.shape)\n",
    "print(x)\n",
    "print(y)"
   ]
  },
  {
   "cell_type": "code",
   "execution_count": 5,
   "metadata": {
    "executionInfo": {
     "elapsed": 2985,
     "status": "ok",
     "timestamp": 1618812085164,
     "user": {
      "displayName": "PRAVAR CHAURASIA",
      "photoUrl": "",
      "userId": "14054420365394464965"
     },
     "user_tz": -330
    },
    "id": "07RitayHyUWR"
   },
   "outputs": [],
   "source": [
    "from sklearn.model_selection import train_test_split  \n",
    "x_train, x_test, y_train, y_test= train_test_split(x, y, test_size= 0.25, random_state=0)  "
   ]
  },
  {
   "cell_type": "code",
   "execution_count": 6,
   "metadata": {
    "executionInfo": {
     "elapsed": 2983,
     "status": "ok",
     "timestamp": 1618812085165,
     "user": {
      "displayName": "PRAVAR CHAURASIA",
      "photoUrl": "",
      "userId": "14054420365394464965"
     },
     "user_tz": -330
    },
    "id": "wFYcE31TyYYj"
   },
   "outputs": [],
   "source": [
    "#feature Scaling  \n",
    "from sklearn.preprocessing import StandardScaler    \n",
    "st_x= StandardScaler()    \n",
    "x_train= st_x.fit_transform(x_train)    \n",
    "x_test= st_x.transform(x_test)  "
   ]
  },
  {
   "cell_type": "code",
   "execution_count": 7,
   "metadata": {
    "colab": {
     "base_uri": "https://localhost:8080/"
    },
    "executionInfo": {
     "elapsed": 2980,
     "status": "ok",
     "timestamp": 1618812085165,
     "user": {
      "displayName": "PRAVAR CHAURASIA",
      "photoUrl": "",
      "userId": "14054420365394464965"
     },
     "user_tz": -330
    },
    "id": "4WZ5SLeFyime",
    "outputId": "56b163c0-9056-4b22-f1b5-dc58a0a1d250"
   },
   "outputs": [
    {
     "name": "stderr",
     "output_type": "stream",
     "text": [
      "/usr/lib/python3/dist-packages/sklearn/utils/validation.py:72: DataConversionWarning:\n",
      "\n",
      "A column-vector y was passed when a 1d array was expected. Please change the shape of y to (n_samples, ), for example using ravel().\n",
      "\n"
     ]
    }
   ],
   "source": [
    "#Fitting Logistic Regression to the training set  \n",
    "from sklearn.linear_model import LogisticRegression  \n",
    "classifier= LogisticRegression(random_state=0)  \n",
    "model=classifier.fit(x_train, y_train)  "
   ]
  },
  {
   "cell_type": "code",
   "execution_count": 8,
   "metadata": {
    "colab": {
     "base_uri": "https://localhost:8080/"
    },
    "executionInfo": {
     "elapsed": 2976,
     "status": "ok",
     "timestamp": 1618812085166,
     "user": {
      "displayName": "PRAVAR CHAURASIA",
      "photoUrl": "",
      "userId": "14054420365394464965"
     },
     "user_tz": -330
    },
    "id": "2V7QJ-9NzOS_",
    "outputId": "5932add2-8176-4e27-a4b6-9fea96a49dcf"
   },
   "outputs": [
    {
     "data": {
      "text/plain": [
       "LogisticRegression(multi_class='warn', random_state=0, solver='warn')"
      ]
     },
     "execution_count": 8,
     "metadata": {},
     "output_type": "execute_result"
    }
   ],
   "source": [
    "LogisticRegression(C=1.0, class_weight=None, dual=False, fit_intercept=True,  \n",
    "                   intercept_scaling=1, l1_ratio=None, max_iter=100,  \n",
    "                   multi_class='warn', n_jobs=None, penalty='l2',  \n",
    "                   random_state=0, solver='warn', tol=0.0001, verbose=0,  \n",
    "                   warm_start=False)  "
   ]
  },
  {
   "cell_type": "code",
   "execution_count": 9,
   "metadata": {
    "colab": {
     "base_uri": "https://localhost:8080/"
    },
    "executionInfo": {
     "elapsed": 2973,
     "status": "ok",
     "timestamp": 1618812085167,
     "user": {
      "displayName": "PRAVAR CHAURASIA",
      "photoUrl": "",
      "userId": "14054420365394464965"
     },
     "user_tz": -330
    },
    "id": "SMGF-zyozSBU",
    "outputId": "9fb79925-75ff-47b3-840b-6906e33d4b04"
   },
   "outputs": [
    {
     "name": "stdout",
     "output_type": "stream",
     "text": [
      "[1 0 1 ... 1 0 1]\n",
      "[9.52625291e-01 1.33239353e-03 9.92092646e-01 ... 9.99921187e-01\n",
      " 8.89071757e-07 9.45456130e-01]\n",
      "[1.77757935e-09 1.80020366e-09 1.83538319e-09 ... 9.99999713e-01\n",
      " 9.99999716e-01 9.99999719e-01]\n"
     ]
    }
   ],
   "source": [
    "#Predicting the test set result  \n",
    "y_pred= classifier.predict(x_test)\n",
    "temp1 = classifier.predict_proba(x_test)\n",
    "print(y_pred)\n",
    "print(temp1[:,1])\n",
    "print(np.unique(temp1[:,1]))"
   ]
  },
  {
   "cell_type": "markdown",
   "metadata": {
    "id": "TU-YwYbphFSi"
   },
   "source": [
    "Accuracy"
   ]
  },
  {
   "cell_type": "code",
   "execution_count": 10,
   "metadata": {
    "colab": {
     "base_uri": "https://localhost:8080/"
    },
    "executionInfo": {
     "elapsed": 2968,
     "status": "ok",
     "timestamp": 1618812085167,
     "user": {
      "displayName": "PRAVAR CHAURASIA",
      "photoUrl": "",
      "userId": "14054420365394464965"
     },
     "user_tz": -330
    },
    "id": "AzmdeN0HhD7_",
    "outputId": "68e6cf38-cb6f-4727-96c9-637639dcf1fd"
   },
   "outputs": [
    {
     "data": {
      "text/plain": [
       "0.9571428571428572"
      ]
     },
     "execution_count": 10,
     "metadata": {},
     "output_type": "execute_result"
    }
   ],
   "source": [
    "classifier.score(x_test, y_test)"
   ]
  },
  {
   "cell_type": "markdown",
   "metadata": {
    "id": "lTKDnTpYsS58"
   },
   "source": [
    "CV Mean\n"
   ]
  },
  {
   "cell_type": "code",
   "execution_count": 11,
   "metadata": {
    "colab": {
     "base_uri": "https://localhost:8080/"
    },
    "executionInfo": {
     "elapsed": 2963,
     "status": "ok",
     "timestamp": 1618812085168,
     "user": {
      "displayName": "PRAVAR CHAURASIA",
      "photoUrl": "",
      "userId": "14054420365394464965"
     },
     "user_tz": -330
    },
    "id": "P9RWUFP7zyn1",
    "outputId": "e79898eb-52f6-40d6-dc1a-d9abba260fd7"
   },
   "outputs": [
    {
     "name": "stderr",
     "output_type": "stream",
     "text": [
      "/usr/lib/python3/dist-packages/sklearn/utils/validation.py:72: DataConversionWarning:\n",
      "\n",
      "A column-vector y was passed when a 1d array was expected. Please change the shape of y to (n_samples, ), for example using ravel().\n",
      "\n",
      "/usr/lib/python3/dist-packages/sklearn/utils/validation.py:72: DataConversionWarning:\n",
      "\n",
      "A column-vector y was passed when a 1d array was expected. Please change the shape of y to (n_samples, ), for example using ravel().\n",
      "\n",
      "/usr/lib/python3/dist-packages/sklearn/utils/validation.py:72: DataConversionWarning:\n",
      "\n",
      "A column-vector y was passed when a 1d array was expected. Please change the shape of y to (n_samples, ), for example using ravel().\n",
      "\n"
     ]
    },
    {
     "name": "stdout",
     "output_type": "stream",
     "text": [
      "[0.91666667 0.98710317 0.93948413 0.97519841 0.9047619 ]\n",
      "cv_scores mean:0.9446428571428571\n"
     ]
    },
    {
     "name": "stderr",
     "output_type": "stream",
     "text": [
      "/usr/lib/python3/dist-packages/sklearn/utils/validation.py:72: DataConversionWarning:\n",
      "\n",
      "A column-vector y was passed when a 1d array was expected. Please change the shape of y to (n_samples, ), for example using ravel().\n",
      "\n",
      "/usr/lib/python3/dist-packages/sklearn/utils/validation.py:72: DataConversionWarning:\n",
      "\n",
      "A column-vector y was passed when a 1d array was expected. Please change the shape of y to (n_samples, ), for example using ravel().\n",
      "\n"
     ]
    }
   ],
   "source": [
    "from sklearn.model_selection import cross_val_score\n",
    "#train model with cv of 5 \n",
    "cv_scores = cross_val_score(classifier, x, y, cv=5)\n",
    "#print each cv score (accuracy) and average them\n",
    "print(cv_scores)\n",
    "print('cv_scores mean:{}'.format(np.mean(cv_scores)))"
   ]
  },
  {
   "cell_type": "markdown",
   "metadata": {
    "id": "SYtMbvYq8zjX"
   },
   "source": [
    "Precision & Recall"
   ]
  },
  {
   "cell_type": "code",
   "execution_count": 12,
   "metadata": {
    "colab": {
     "base_uri": "https://localhost:8080/"
    },
    "executionInfo": {
     "elapsed": 2959,
     "status": "ok",
     "timestamp": 1618812085168,
     "user": {
      "displayName": "PRAVAR CHAURASIA",
      "photoUrl": "",
      "userId": "14054420365394464965"
     },
     "user_tz": -330
    },
    "id": "QKTwuFJb82Kr",
    "outputId": "be56a51c-edd0-487d-8462-17b5490b904c"
   },
   "outputs": [
    {
     "name": "stdout",
     "output_type": "stream",
     "text": [
      "Average precision score: 0.99\n",
      "Precision: 0.9357277882797732\n",
      "Recall: 0.9611650485436893\n"
     ]
    }
   ],
   "source": [
    "from sklearn.metrics import average_precision_score\n",
    "from sklearn.metrics import recall_score\n",
    "from sklearn.metrics import precision_score\n",
    "\n",
    "average_precision = average_precision_score(y_test, temp1[:,1])\n",
    "\n",
    "print('Average precision score: {0:0.2f}'.format(average_precision))\n",
    "\n",
    "\n",
    "precision_val = precision_score(y_test, y_pred, average=\"binary\")\n",
    "print(\"Precision:\",precision_val)\n",
    "\n",
    "recall_val = recall_score(y_test, y_pred, average=\"binary\")\n",
    "print(\"Recall:\",recall_val)"
   ]
  },
  {
   "cell_type": "markdown",
   "metadata": {
    "id": "6rAtoCh386R0"
   },
   "source": [
    "Precision-Recall Curve"
   ]
  },
  {
   "cell_type": "code",
   "execution_count": 13,
   "metadata": {
    "colab": {
     "base_uri": "https://localhost:8080/",
     "height": 350
    },
    "executionInfo": {
     "elapsed": 2954,
     "status": "ok",
     "timestamp": 1618812085169,
     "user": {
      "displayName": "PRAVAR CHAURASIA",
      "photoUrl": "",
      "userId": "14054420365394464965"
     },
     "user_tz": -330
    },
    "id": "Az1ptgsu89J7",
    "outputId": "09be0060-674e-4b41-a485-2cb02879c18f"
   },
   "outputs": [
    {
     "name": "stderr",
     "output_type": "stream",
     "text": [
      "The PostScript backend does not support transparency; partially transparent artists will be rendered opaque.\n"
     ]
    },
    {
     "data": {
      "image/png": "[encoded data removed]",
      "text/plain": [
       "<Figure size 432x288 with 1 Axes>"
      ]
     },
     "metadata": {
      "needs_background": "light"
     },
     "output_type": "display_data"
    }
   ],
   "source": [
    "from sklearn.metrics import precision_recall_curve\n",
    "from sklearn.metrics import plot_precision_recall_curve\n",
    "import matplotlib.pyplot as plt\n",
    "\n",
    "disp = plot_precision_recall_curve(classifier, x_test, y_test)\n",
    "disp.ax_.set_title('2-class Precision-Recall curve: '\n",
    "                   'AP={0:0.2f}'.format(average_precision))\n",
    "\n",
    "plt.tight_layout()\n",
    "plt.savefig('Logistic_P_P-R.eps', format='eps')"
   ]
  },
  {
   "cell_type": "markdown",
   "metadata": {
    "id": "enItOV1L9CL4"
   },
   "source": [
    "Confusion Matrix"
   ]
  },
  {
   "cell_type": "code",
   "execution_count": 14,
   "metadata": {
    "colab": {
     "base_uri": "https://localhost:8080/"
    },
    "executionInfo": {
     "elapsed": 2949,
     "status": "ok",
     "timestamp": 1618812085170,
     "user": {
      "displayName": "PRAVAR CHAURASIA",
      "photoUrl": "",
      "userId": "14054420365394464965"
     },
     "user_tz": -330
    },
    "id": "6wCJHHEdzfRG",
    "outputId": "97cd6b69-dce9-4200-f5c3-c34acd13e0f8"
   },
   "outputs": [
    {
     "name": "stdout",
     "output_type": "stream",
     "text": [
      "[[711  34]\n",
      " [ 20 495]]\n"
     ]
    }
   ],
   "source": [
    "#Creating the Confusion matrix  \n",
    "from sklearn.metrics import confusion_matrix  \n",
    "cm= confusion_matrix(y_test,y_pred)\n",
    "print(cm)  "
   ]
  },
  {
   "cell_type": "markdown",
   "metadata": {
    "id": "_Cbw16kS9Gw_"
   },
   "source": [
    "Plot CM"
   ]
  },
  {
   "cell_type": "code",
   "execution_count": 15,
   "metadata": {
    "colab": {
     "base_uri": "https://localhost:8080/",
     "height": 297
    },
    "executionInfo": {
     "elapsed": 3714,
     "status": "ok",
     "timestamp": 1618812085940,
     "user": {
      "displayName": "PRAVAR CHAURASIA",
      "photoUrl": "",
      "userId": "14054420365394464965"
     },
     "user_tz": -330
    },
    "id": "sPXnthdq9I9Q",
    "outputId": "7bb6a012-ce7a-4ad0-e331-4ba4c06d348d"
   },
   "outputs": [
    {
     "data": {
      "image/png": "[encoded data removed]",
      "text/plain": [
       "<Figure size 432x288 with 2 Axes>"
      ]
     },
     "metadata": {
      "needs_background": "light"
     },
     "output_type": "display_data"
    }
   ],
   "source": [
    "import matplotlib.pyplot as plt \n",
    "from sklearn.metrics import plot_confusion_matrix\n",
    "plot_confusion_matrix(classifier, x_test, y_test)\n",
    "plt.tight_layout()\n",
    "plt.savefig('Logistic_P_CM.eps', format='eps')"
   ]
  },
  {
   "cell_type": "code",
   "execution_count": 16,
   "metadata": {
    "colab": {
     "base_uri": "https://localhost:8080/"
    },
    "executionInfo": {
     "elapsed": 3709,
     "status": "ok",
     "timestamp": 1618812085941,
     "user": {
      "displayName": "PRAVAR CHAURASIA",
      "photoUrl": "",
      "userId": "14054420365394464965"
     },
     "user_tz": -330
    },
    "id": "PsncDe4jz2Ph",
    "outputId": "8e412874-e733-49c8-a0e2-9308f9a3ac01"
   },
   "outputs": [
    {
     "name": "stdout",
     "output_type": "stream",
     "text": [
      "[0]\n"
     ]
    }
   ],
   "source": [
    "predicted= classifier.predict([[0,1,1,0,1,1,0]])\n",
    "print(predicted)"
   ]
  }
 ],
 "metadata": {
  "colab": {
   "authorship_tag": "ABX9TyP0YW8+iSu2GqjZY9TyPg8n",
   "collapsed_sections": [],
   "name": "Logistic_Regression_2.ipynb",
   "provenance": []
  },
  "kernelspec": {
   "display_name": "Python 3 (ipykernel)",
   "language": "python",
   "name": "python3"
  },
  "language_info": {
   "codemirror_mode": {
    "name": "ipython",
    "version": 3
   },
   "file_extension": ".py",
   "mimetype": "text/x-python",
   "name": "python",
   "nbconvert_exporter": "python",
   "pygments_lexer": "ipython3",
   "version": "3.10.6"
  }
 },
 "nbformat": 4,
 "nbformat_minor": 1
}
